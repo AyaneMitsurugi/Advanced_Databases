{
 "cells": [
  {
   "cell_type": "code",
   "execution_count": 1,
   "metadata": {},
   "outputs": [
    {
     "name": "stdout",
     "output_type": "stream",
     "text": [
      "k: 3280.7316257200923\n",
      "m: 4467\n",
      "l: 2j\n",
      "d: 7747.731625720093\n",
      "c: (7747.731625720093+2j)\n"
     ]
    }
   ],
   "source": [
    "# EXERCISE 1\n",
    "\n",
    "from math import sqrt\n",
    "import cmath #complex variables\n",
    "\n",
    "k = 1240 * sqrt(7)\n",
    "m = 4467\n",
    "l = complex(0,2)\n",
    "d = k + m\n",
    "c = d + l\n",
    "\n",
    "print(\"k: {0}\".format(k))\n",
    "print(\"m: {0}\".format(m))\n",
    "print(\"l: {0}\".format(l))\n",
    "print(\"d: {0}\".format(d))\n",
    "print(\"c: {0}\".format(c))\n",
    "\n",
    "# Variable explorer\n",
    "# Name - Type    - Size\n",
    "# k    - float   - 1\n",
    "# m    - int     - 1\n",
    "# l    - complex - 1\n",
    "# d    - float   - 1\n",
    "# c    - complex - 1"
   ]
  },
  {
   "cell_type": "code",
   "execution_count": 4,
   "metadata": {},
   "outputs": [
    {
     "name": "stdout",
     "output_type": "stream",
     "text": [
      "d with precision of 3: 7747.732\n",
      "d with precision od 20: 7747.73162572009277937468\n"
     ]
    }
   ],
   "source": [
    "# EXERCISE 2\n",
    "\n",
    "print(\"d with precision of 3: {0:.3f}\".format(d))\n",
    "print(\"d with precision od 20: {0:.20f}\".format(d))"
   ]
  },
  {
   "cell_type": "code",
   "execution_count": 5,
   "metadata": {},
   "outputs": [
    {
     "name": "stdout",
     "output_type": "stream",
     "text": [
      "29961.369137285856\n"
     ]
    }
   ],
   "source": [
    "# EXERCISE 3\n",
    "\n",
    "from math import pi\n",
    "\n",
    "r = 17\n",
    "h = 33\n",
    "\n",
    "S = pi * r**2 * h\n",
    "print(S)"
   ]
  },
  {
   "cell_type": "code",
   "execution_count": 8,
   "metadata": {},
   "outputs": [
    {
     "data": {
      "text/plain": [
       "'\\nMultiline comments\\n'"
      ]
     },
     "execution_count": 8,
     "metadata": {},
     "output_type": "execute_result"
    }
   ],
   "source": [
    "# EXERCISE 4\n",
    "\"\"\"\n",
    "Multiline comments\n",
    "\"\"\"\n",
    "\n",
    "'\\nMultiline comments\\n' # Doesn't work\n",
    "\n",
    "# line comments"
   ]
  },
  {
   "cell_type": "code",
   "execution_count": 9,
   "metadata": {},
   "outputs": [
    {
     "name": "stdout",
     "output_type": "stream",
     "text": [
      "0.4700465838237791\n"
     ]
    }
   ],
   "source": [
    "# EXERCISE 5\n",
    "\n",
    "from math import sin\n",
    "\n",
    "x_1 = 1\n",
    "t = 1\n",
    "r = 1\n",
    "\n",
    "B = (x_1+r)/(r * sin(2* x_1) + 3.3456) * x_1 ** (t * r)\n",
    "print(B)"
   ]
  },
  {
   "cell_type": "code",
   "execution_count": 18,
   "metadata": {},
   "outputs": [
    {
     "name": "stdout",
     "output_type": "stream",
     "text": [
      "[[1.4142135623730951, 1, -1.4142135623730951], [0, 1, 1], [-1.4142135623730951, 1.4142135623730951, 1]]\n",
      "[[ 0.10355339  0.75       -0.60355339]\n",
      " [ 0.35355339  0.14644661  0.35355339]\n",
      " [-0.35355339  0.85355339 -0.35355339]]\n",
      "-4.0\n"
     ]
    }
   ],
   "source": [
    "# EXERCISE 6 - MATRIXES\n",
    "\n",
    "from numpy.linalg import inv #inverse matrix\n",
    "import numpy as np\n",
    "\n",
    "a = sqrt(2)\n",
    "\n",
    "M = [[a, 1, -a],\n",
    "     [0, 1, 1],\n",
    "     [-a, a, 1]]\n",
    "\n",
    "print(M)\n",
    "\n",
    "M_inv = inv(M)\n",
    "print(M_inv)\n",
    "\n",
    "\n",
    "\n",
    "M_det = np.linalg.det(M)\n",
    "print(M_det)"
   ]
  },
  {
   "cell_type": "code",
   "execution_count": 19,
   "metadata": {},
   "outputs": [
    {
     "ename": "AttributeError",
     "evalue": "'list' object has no attribute 'transpose'",
     "output_type": "error",
     "traceback": [
      "\u001b[0;31m---------------------------------------------------------------------------\u001b[0m",
      "\u001b[0;31mAttributeError\u001b[0m                            Traceback (most recent call last)",
      "\u001b[0;32m<ipython-input-19-411a4466434b>\u001b[0m in \u001b[0;36m<module>\u001b[0;34m\u001b[0m\n\u001b[1;32m      1\u001b[0m \u001b[0;31m# POPRAWIĆ\u001b[0m\u001b[0;34m\u001b[0m\u001b[0;34m\u001b[0m\u001b[0;34m\u001b[0m\u001b[0m\n\u001b[1;32m      2\u001b[0m \u001b[0;34m\u001b[0m\u001b[0m\n\u001b[0;32m----> 3\u001b[0;31m \u001b[0mM_transpose\u001b[0m \u001b[0;34m=\u001b[0m \u001b[0mM\u001b[0m\u001b[0;34m.\u001b[0m\u001b[0mtranspose\u001b[0m\u001b[0;34m(\u001b[0m\u001b[0;34m)\u001b[0m\u001b[0;34m\u001b[0m\u001b[0;34m\u001b[0m\u001b[0m\n\u001b[0m\u001b[1;32m      4\u001b[0m \u001b[0mprint\u001b[0m\u001b[0;34m(\u001b[0m\u001b[0mM_transpose\u001b[0m\u001b[0;34m)\u001b[0m\u001b[0;34m\u001b[0m\u001b[0;34m\u001b[0m\u001b[0m\n",
      "\u001b[0;31mAttributeError\u001b[0m: 'list' object has no attribute 'transpose'"
     ]
    }
   ],
   "source": [
    "# POPRAWIĆ\n",
    "\n",
    "M_transpose = M.transpose()\n",
    "print(M_transpose)"
   ]
  },
  {
   "cell_type": "code",
   "execution_count": 66,
   "metadata": {},
   "outputs": [
    {
     "name": "stdout",
     "output_type": "stream",
     "text": [
      "Random matrix 4x4:\n",
      " [[2 0 8 6]\n",
      " [7 0 8 4]\n",
      " [3 2 9 7]\n",
      " [8 3 3 5]]\n",
      "Element 1x1: 2\n",
      "Element 3x3: 9\n",
      "Element 3x2: 2\n",
      "3rd column:\n",
      " [8 8 9 3]\n",
      "2nd row:\n",
      " [7 0 8 4]\n"
     ]
    }
   ],
   "source": [
    "# EXERCISE 7\n",
    "\n",
    "# crate random matrix 4x4 \n",
    "P = np.array([np.random.randint(0,10,4),np.random.randint(0,10,4),np.random.randint(0,10,4),np.random.randint(0,10,4)])\n",
    "print(\"Random matrix 4x4:\\n {0}\".format(P))\n",
    "print(\"Element 1x1: {0}\".format(P[0,0]))\n",
    "print(\"Element 3x3: {0}\".format(P[2,2]))\n",
    "print(\"Element 3x2: {0}\".format(P[2,1]))\n",
    "\n",
    "# gets specific column\n",
    "vector1 = P[:,2]\n",
    "print(\"3rd column:\\n {0}\".format(vector1))\n",
    "\n",
    "# gets specific row\n",
    "vector2 = P[1,:]\n",
    "print(\"2nd row:\\n {0}\".format(vector2))"
   ]
  },
  {
   "cell_type": "code",
   "execution_count": 62,
   "metadata": {},
   "outputs": [
    {
     "data": {
      "text/plain": [
       "array([ 5.,  3.,  2., -2., -1.])"
      ]
     },
     "execution_count": 62,
     "metadata": {},
     "output_type": "execute_result"
    }
   ],
   "source": [
    "# EXERCISE 8\n",
    "\n",
    "coeff = [1, -7, 3, 43, -28, -60]\n",
    "np.roots(coeff)"
   ]
  },
  {
   "cell_type": "code",
   "execution_count": 71,
   "metadata": {},
   "outputs": [
    {
     "name": "stdout",
     "output_type": "stream",
     "text": [
      "[1 2 3 4 5 6 7 8 9]\n",
      "[ 1.          1.18367347  1.36734694  1.55102041  1.73469388  1.91836735\n",
      "  2.10204082  2.28571429  2.46938776  2.65306122  2.83673469  3.02040816\n",
      "  3.20408163  3.3877551   3.57142857  3.75510204  3.93877551  4.12244898\n",
      "  4.30612245  4.48979592  4.67346939  4.85714286  5.04081633  5.2244898\n",
      "  5.40816327  5.59183673  5.7755102   5.95918367  6.14285714  6.32653061\n",
      "  6.51020408  6.69387755  6.87755102  7.06122449  7.24489796  7.42857143\n",
      "  7.6122449   7.79591837  7.97959184  8.16326531  8.34693878  8.53061224\n",
      "  8.71428571  8.89795918  9.08163265  9.26530612  9.44897959  9.63265306\n",
      "  9.81632653 10.        ]\n",
      "[ 1.     2.125  3.25   4.375  5.5    6.625  7.75   8.875 10.   ]\n"
     ]
    }
   ],
   "source": [
    "# EXERCISE 9\n",
    "\n",
    "# numpy.arange(start, stop, step, dtype)\n",
    "# numpy.linspace(start, stop, num, endpoint, retstep, , dtype)\n",
    "\n",
    "arange = np.arange(1,10,1)\n",
    "print(arange)\n",
    "\n",
    "linspace = np.linspace(1, 10)\n",
    "print(linspace)\n",
    "\n",
    "linspace_num = np.linspace(1, 10, 9)\n",
    "print(linspace_num)"
   ]
  },
  {
   "cell_type": "code",
   "execution_count": 77,
   "metadata": {},
   "outputs": [
    {
     "data": {
      "image/png": "[encoded data removed]",
      "text/plain": [
       "<Figure size 432x288 with 1 Axes>"
      ]
     },
     "metadata": {
      "needs_background": "light"
     },
     "output_type": "display_data"
    }
   ],
   "source": [
    "# EXERCISE 10\n",
    "\n",
    "import matplotlib.pyplot as plt\n",
    "\n",
    "def fun1(x):\n",
    "    return x**3 -3*x\n",
    "\n",
    "x = np.linspace(-10,10)\n",
    "y = fun1(x)\n",
    "plt.plot(x, y)\n",
    "plt.title('Example chart')\n",
    "plt.xlabel('x')\n",
    "plt.ylabel('y = x**3 - 3*x')\n",
    "plt.legend('legend')\n",
    "plt.show()"
   ]
  },
  {
   "cell_type": "code",
   "execution_count": 79,
   "metadata": {},
   "outputs": [
    {
     "name": "stdout",
     "output_type": "stream",
     "text": [
      "4500000.0\n"
     ]
    }
   ],
   "source": [
    "# EXERCISE 11\n",
    "\n",
    "m = 2500 # [g]\n",
    "V = 60 # [km/h]\n",
    "\n",
    "Q = (m * V**2)/2\n",
    "print(Q)\n",
    "\n",
    "#  in kilocalories and joules. Plot the graphs that show the change in the amount of heat in the process of chamfering a body with a weight of $3000g$ and the speed $v\\in <200,0>km/h$, showing the heat of chamfering on the first in the linear scale on the second logarithmic scale."
   ]
  }
 ],
 "metadata": {
  "kernelspec": {
   "display_name": "Python 3",
   "language": "python",
   "name": "python3"
  },
  "language_info": {
   "codemirror_mode": {
    "name": "ipython",
    "version": 3
   },
   "file_extension": ".py",
   "mimetype": "text/x-python",
   "name": "python",
   "nbconvert_exporter": "python",
   "pygments_lexer": "ipython3",
   "version": "3.7.4"
  }
 },
 "nbformat": 4,
 "nbformat_minor": 4
}
