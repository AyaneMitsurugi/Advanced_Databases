{
 "cells": [
  {
   "cell_type": "code",
   "execution_count": 1,
   "metadata": {},
   "outputs": [
    {
     "name": "stdout",
     "output_type": "stream",
     "text": [
      "k: 3280.7316257200923\n",
      "m: 4467\n",
      "l: 2j\n",
      "d: 7747.731625720093\n",
      "c: (7747.731625720093+2j)\n"
     ]
    }
   ],
   "source": [
    "# EXERCISE 1 - FORMAT OF A VARIABLE\n",
    "\n",
    "from math import sqrt\n",
    "import cmath #complex variables\n",
    "\n",
    "k = 1240 * sqrt(7)\n",
    "m = 4467\n",
    "l = complex(0,2)\n",
    "d = k + m\n",
    "c = d + l\n",
    "\n",
    "print(\"k: {0}\".format(k))\n",
    "print(\"m: {0}\".format(m))\n",
    "print(\"l: {0}\".format(l))\n",
    "print(\"d: {0}\".format(d))\n",
    "print(\"c: {0}\".format(c))\n",
    "\n",
    "# Variable explorer\n",
    "# Name - Type    - Size\n",
    "# k    - float   - 1\n",
    "# m    - int     - 1\n",
    "# l    - complex - 1\n",
    "# d    - float   - 1\n",
    "# c    - complex - 1"
   ]
  },
  {
   "cell_type": "code",
   "execution_count": 2,
   "metadata": {},
   "outputs": [
    {
     "name": "stdout",
     "output_type": "stream",
     "text": [
      "d with precision of 3: 7747.732\n",
      "d with precision od 20: 7747.73162572009277937468\n"
     ]
    }
   ],
   "source": [
    "# EXERCISE 2 - DECIMAL ACCURACY\n",
    "\n",
    "print(\"d with precision of 3: {0:.3f}\".format(d))\n",
    "print(\"d with precision od 20: {0:.20f}\".format(d))"
   ]
  },
  {
   "cell_type": "code",
   "execution_count": 3,
   "metadata": {},
   "outputs": [
    {
     "name": "stdout",
     "output_type": "stream",
     "text": [
      "29961.369137285856\n"
     ]
    }
   ],
   "source": [
    "# EXERCISE 3 - IN THE POWER OF (2)\n",
    "\n",
    "from math import pi\n",
    "\n",
    "r = 17\n",
    "h = 33\n",
    "\n",
    "S = pi * r**2 * h\n",
    "print(S)"
   ]
  },
  {
   "cell_type": "code",
   "execution_count": 4,
   "metadata": {},
   "outputs": [
    {
     "data": {
      "text/plain": [
       "'\\nMultiline comments\\n'"
      ]
     },
     "execution_count": 4,
     "metadata": {},
     "output_type": "execute_result"
    }
   ],
   "source": [
    "# EXERCISE 4 - COMMENTS\n",
    "\"\"\"\n",
    "Multiline comments\n",
    "\"\"\"\n",
    "\n",
    "'\\nMultiline comments\\n' # Doesn't work\n",
    "\n",
    "# line comments"
   ]
  },
  {
   "cell_type": "code",
   "execution_count": 5,
   "metadata": {},
   "outputs": [
    {
     "name": "stdout",
     "output_type": "stream",
     "text": [
      "0.4700465838237791\n"
     ]
    }
   ],
   "source": [
    "# EXERCISE 5 - EQUATIONS\n",
    "\n",
    "from math import sin\n",
    "\n",
    "x_1 = 1\n",
    "t = 1\n",
    "r = 1\n",
    "\n",
    "B = (x_1+r)/(r * sin(2* x_1) + 3.3456) * x_1 ** (t * r)\n",
    "print(B)"
   ]
  },
  {
   "cell_type": "code",
   "execution_count": 6,
   "metadata": {},
   "outputs": [
    {
     "name": "stdout",
     "output_type": "stream",
     "text": [
      "[[ 1.41421356  1.         -1.41421356]\n",
      " [ 0.          1.          1.        ]\n",
      " [-1.41421356  1.41421356  1.        ]]\n"
     ]
    }
   ],
   "source": [
    "# EXERCISE 6 - MATRIXES\n",
    "\n",
    "# Create matrix (instead of a list)\n",
    "import numpy as np\n",
    "\n",
    "a = sqrt(2)\n",
    "\n",
    "M = np.array([[a, 1, -a],\n",
    "     [0, 1, 1],\n",
    "     [-a, a, 1]])\n",
    "\n",
    "print(M)"
   ]
  },
  {
   "cell_type": "code",
   "execution_count": 7,
   "metadata": {},
   "outputs": [
    {
     "name": "stdout",
     "output_type": "stream",
     "text": [
      "[[ 0.10355339  0.75       -0.60355339]\n",
      " [ 0.35355339  0.14644661  0.35355339]\n",
      " [-0.35355339  0.85355339 -0.35355339]]\n"
     ]
    }
   ],
   "source": [
    "# Inverse matrix\n",
    "from numpy.linalg import inv # and det()\n",
    "\n",
    "M_inv = inv(M)\n",
    "print(M_inv)"
   ]
  },
  {
   "cell_type": "code",
   "execution_count": 8,
   "metadata": {},
   "outputs": [
    {
     "name": "stdout",
     "output_type": "stream",
     "text": [
      "[[ 1.41421356  0.         -1.41421356]\n",
      " [ 1.          1.          1.41421356]\n",
      " [-1.41421356  1.          1.        ]]\n"
     ]
    }
   ],
   "source": [
    "# Transposition of a matrix\n",
    "\n",
    "M_transpose = M.transpose()\n",
    "print(M_transpose)"
   ]
  },
  {
   "cell_type": "code",
   "execution_count": 9,
   "metadata": {},
   "outputs": [
    {
     "name": "stdout",
     "output_type": "stream",
     "text": [
      "-4.0\n"
     ]
    }
   ],
   "source": [
    "# Det of a matrix\n",
    "\n",
    "M_det = np.linalg.det(M)\n",
    "print(M_det)"
   ]
  },
  {
   "cell_type": "code",
   "execution_count": 10,
   "metadata": {},
   "outputs": [
    {
     "name": "stdout",
     "output_type": "stream",
     "text": [
      "Random matrix 4x4:\n",
      " [[8 8 7 5]\n",
      " [8 3 9 0]\n",
      " [0 1 8 4]\n",
      " [5 0 2 9]]\n"
     ]
    }
   ],
   "source": [
    "# EXERCISE 7 - RANDOM MATRIX\n",
    "\n",
    "# crate random matrix 4x4 \n",
    "P = np.array([np.random.randint(0,10,4),np.random.randint(0,10,4),np.random.randint(0,10,4),np.random.randint(0,10,4)])\n",
    "\n",
    "print(\"Random matrix 4x4:\\n {0}\".format(P))"
   ]
  },
  {
   "cell_type": "code",
   "execution_count": 11,
   "metadata": {},
   "outputs": [
    {
     "name": "stdout",
     "output_type": "stream",
     "text": [
      "Element 1x1: 8\n"
     ]
    }
   ],
   "source": [
    "print(\"Element 1x1: {0}\".format(P[0,0]))"
   ]
  },
  {
   "cell_type": "code",
   "execution_count": 12,
   "metadata": {},
   "outputs": [
    {
     "name": "stdout",
     "output_type": "stream",
     "text": [
      "Element 3x3: 8\n"
     ]
    }
   ],
   "source": [
    "print(\"Element 3x3: {0}\".format(P[2,2]))"
   ]
  },
  {
   "cell_type": "code",
   "execution_count": 13,
   "metadata": {},
   "outputs": [
    {
     "name": "stdout",
     "output_type": "stream",
     "text": [
      "Element 3x2: 1\n"
     ]
    }
   ],
   "source": [
    "print(\"Element 3x2: {0}\".format(P[2,1])) # 3rd row, 2nd column"
   ]
  },
  {
   "cell_type": "code",
   "execution_count": 14,
   "metadata": {},
   "outputs": [
    {
     "name": "stdout",
     "output_type": "stream",
     "text": [
      "3rd column:\n",
      " [7 9 8 2]\n"
     ]
    }
   ],
   "source": [
    "# gets specific column\n",
    "vector1 = P[:,2]\n",
    "print(\"3rd column:\\n {0}\".format(vector1))"
   ]
  },
  {
   "cell_type": "code",
   "execution_count": 15,
   "metadata": {},
   "outputs": [
    {
     "name": "stdout",
     "output_type": "stream",
     "text": [
      "2nd row:\n",
      " [8 3 9 0]\n"
     ]
    }
   ],
   "source": [
    "# gets specific row\n",
    "vector2 = P[1,:]\n",
    "print(\"2nd row:\\n {0}\".format(vector2))"
   ]
  },
  {
   "cell_type": "code",
   "execution_count": 16,
   "metadata": {},
   "outputs": [
    {
     "data": {
      "text/plain": [
       "array([ 5.,  3.,  2., -2., -1.])"
      ]
     },
     "execution_count": 16,
     "metadata": {},
     "output_type": "execute_result"
    }
   ],
   "source": [
    "# EXERCISE 8 - ROOTS OF POLYNOMIAL\n",
    "\n",
    "coeff = [1, -7, 3, 43, -28, -60]\n",
    "np.roots(coeff)"
   ]
  },
  {
   "cell_type": "code",
   "execution_count": 17,
   "metadata": {},
   "outputs": [
    {
     "name": "stdout",
     "output_type": "stream",
     "text": [
      "[1 2 3 4 5 6 7 8 9]\n"
     ]
    }
   ],
   "source": [
    "# EXERCISE 9 - ARITHMETIC STRINGS\n",
    "\n",
    "# numpy.arange(start, stop, step, dtype)\n",
    "# numpy.linspace(start, stop, num, endpoint, retstep, , dtype)\n",
    "\n",
    "arange = np.arange(1,10,1)\n",
    "print(arange)"
   ]
  },
  {
   "cell_type": "code",
   "execution_count": 18,
   "metadata": {},
   "outputs": [
    {
     "name": "stdout",
     "output_type": "stream",
     "text": [
      "[ 1.          1.18367347  1.36734694  1.55102041  1.73469388  1.91836735\n",
      "  2.10204082  2.28571429  2.46938776  2.65306122  2.83673469  3.02040816\n",
      "  3.20408163  3.3877551   3.57142857  3.75510204  3.93877551  4.12244898\n",
      "  4.30612245  4.48979592  4.67346939  4.85714286  5.04081633  5.2244898\n",
      "  5.40816327  5.59183673  5.7755102   5.95918367  6.14285714  6.32653061\n",
      "  6.51020408  6.69387755  6.87755102  7.06122449  7.24489796  7.42857143\n",
      "  7.6122449   7.79591837  7.97959184  8.16326531  8.34693878  8.53061224\n",
      "  8.71428571  8.89795918  9.08163265  9.26530612  9.44897959  9.63265306\n",
      "  9.81632653 10.        ]\n"
     ]
    }
   ],
   "source": [
    "linspace = np.linspace(1, 10)\n",
    "print(linspace)"
   ]
  },
  {
   "cell_type": "code",
   "execution_count": 19,
   "metadata": {},
   "outputs": [
    {
     "name": "stdout",
     "output_type": "stream",
     "text": [
      "[ 1.     2.125  3.25   4.375  5.5    6.625  7.75   8.875 10.   ]\n"
     ]
    }
   ],
   "source": [
    "linspace_num = np.linspace(1, 10, 9)\n",
    "print(linspace_num)"
   ]
  },
  {
   "cell_type": "code",
   "execution_count": 24,
   "metadata": {},
   "outputs": [
    {
     "data": {
      "image/png": "[encoded data removed]",
      "text/plain": [
       "<Figure size 432x288 with 1 Axes>"
      ]
     },
     "metadata": {
      "needs_background": "light"
     },
     "output_type": "display_data"
    }
   ],
   "source": [
    "# EXERCISE 10 - FUNCTION & CHART\n",
    "\n",
    "import matplotlib.pyplot as plt\n",
    "\n",
    "def fun1(x):\n",
    "    return x**3 -3*x\n",
    "\n",
    "x = np.linspace(-10,10)\n",
    "y = fun1(x)\n",
    "\n",
    "plt.plot(x, y)\n",
    "plt.title('Example chart')\n",
    "plt.xlabel('x')\n",
    "plt.ylabel('y = x**3 - 3*x')\n",
    "plt.legend('legend')\n",
    "plt.show()"
   ]
  },
  {
   "cell_type": "code",
   "execution_count": 25,
   "metadata": {},
   "outputs": [
    {
     "name": "stdout",
     "output_type": "stream",
     "text": [
      "Joules: 4500000.0\n",
      "Kilocalories: 1075.5258119999999\n"
     ]
    }
   ],
   "source": [
    "# EXERCISE 11\n",
    "\n",
    "# Calculate the amount of heat that will be released during braking if a dependency describes it: (mV^2) / 2\n",
    "\n",
    "m = 2500 # [g]\n",
    "V = 60   # [km/h]\n",
    "\n",
    "Q = (m * V**2)/2\n",
    "\n",
    "# J --> kcal\n",
    "# 1 joule = 0.000239005736 kilocalories\n",
    "Q_kcal = 0.000239005736 * Q\n",
    "\n",
    "# Write the result and give in kilocalories and joules\n",
    "print(\"Joules: {0}\".format(Q))\n",
    "print(\"Kilocalories: {0}\".format(Q_kcal))"
   ]
  },
  {
   "cell_type": "code",
   "execution_count": 26,
   "metadata": {},
   "outputs": [
    {
     "data": {
      "image/png": "[encoded data removed]",
      "text/plain": [
       "<Figure size 432x288 with 1 Axes>"
      ]
     },
     "metadata": {
      "needs_background": "light"
     },
     "output_type": "display_data"
    }
   ],
   "source": [
    "# Plot the graphs that show the change in the amount of heat in the process of chamfering a body\n",
    "# with a weight of 3000g and the speed v \\in <200,0> km/h,\n",
    "# showing the heat of chamfering on the first in the linear scale on the second logarithmic scale.\n",
    "\n",
    "def fun1(m,V):\n",
    "    return ((m * V**2)/2)\n",
    "\n",
    "m = 3000 # [g]\n",
    "V = np.linspace(200,0) # linear scale\n",
    "y = fun1(m, V)\n",
    "\n",
    "#plt.figure() <-- isn't necessary\n",
    "plt.plot(V, y)\n",
    "plt.title('Example chart')\n",
    "plt.xlabel('V [km/h]')\n",
    "plt.ylabel('Q = ( m [g] * (V [km/h])^2 ) / 2 [J]')\n",
    "plt.show()"
   ]
  },
  {
   "cell_type": "code",
   "execution_count": 27,
   "metadata": {},
   "outputs": [
    {
     "data": {
      "text/plain": [
       "Text(0, 0.5, 'Q = ( m [g] * (V [km/h])^2 ) / 2 [J]')"
      ]
     },
     "execution_count": 27,
     "metadata": {},
     "output_type": "execute_result"
    },
    {
     "data": {
      "image/png": "[encoded data removed]",
      "text/plain": [
       "<Figure size 432x288 with 1 Axes>"
      ]
     },
     "metadata": {
      "needs_background": "light"
     },
     "output_type": "display_data"
    }
   ],
   "source": [
    "m = 3000 # [g]\n",
    "V = np.linspace(200,0) # logarithmic scale\n",
    "y = fun1(m, V)\n",
    "\n",
    "plt.figure() # creates a new figure\n",
    "plt.xlim(left=200, right=0)\n",
    "plt.semilogy(V, y) # makes a plot with log scaling on the y axis\n",
    "plt.title('Example chart')\n",
    "plt.xlabel('V [km/h]')\n",
    "plt.ylabel('Q = ( m [g] * (V [km/h])^2 ) / 2 [J]')"
   ]
  },
  {
   "cell_type": "code",
   "execution_count": 29,
   "metadata": {},
   "outputs": [
    {
     "name": "stdout",
     "output_type": "stream",
     "text": [
      "The Dog is living in  whole world\n",
      "The Dog is living in ['Africa', 'Asia', 'Europ', 'America', 'Australia']\n"
     ]
    }
   ],
   "source": [
    "# TUTORIAL - CLASSESS\n",
    "\n",
    "class Animal:\n",
    "    def __init__(self, kind, place):\n",
    "        self.kind = kind\n",
    "        self.place = place\n",
    "        \n",
    "animal1 = Animal('Dog',' whole world')\n",
    "print('The {0} is living in {1}'.format(animal1.kind, animal1.place))\n",
    "\n",
    "animal2 = Animal('Dog', ['Africa', 'Asia', 'Europ', 'America', 'Australia'])\n",
    "print('The {0} is living in {1}'.format(animal2.kind, animal2.place))\n",
    "\n",
    "# All classes create objects, and all objects contain characteristics called attributes (referred to as properties in the opening paragraph).\n",
    "# Use the init() method to initialize (e.g., specify) an object’s initial attributes by giving them their default value (or state).\n",
    "# This method must have at least one argument as well as the self variable, which refers to the object itself.\n",
    "# In class Animal we have two variable kind and place."
   ]
  },
  {
   "cell_type": "code",
   "execution_count": 30,
   "metadata": {},
   "outputs": [
    {
     "name": "stdout",
     "output_type": "stream",
     "text": [
      "The Dog is living in  whole world\n",
      "The Dog is living in ['Africa', 'Asia', 'Europ', 'America', 'Australia']\n"
     ]
    }
   ],
   "source": [
    "# TUTORIAL - INSTANCE METHODS\n",
    "\n",
    "# Instance methods are defined inside a class and are used to get the contents of an instance.\n",
    "# They can also be used to perform operations with the attributes of our objects.\n",
    "# Like the init method, the first argument is always self:\n",
    "\n",
    "class Animal:\n",
    "    \n",
    "    def __init__(self, kind, place):\n",
    "        self.kind = kind\n",
    "        self.place = place\n",
    "        \n",
    "    def general_info(self):\n",
    "        print('The {0} is living in {1}'.format(self.kind, self.place))\n",
    "\n",
    "        \n",
    "animal1 = Animal('Dog',' whole world')\n",
    "animal2 =  Animal('Dog', ['Africa', 'Asia', 'Europ', 'America', 'Australia'])\n",
    "animal1.general_info()\n",
    "animal2.general_info()"
   ]
  },
  {
   "cell_type": "code",
   "execution_count": 32,
   "metadata": {},
   "outputs": [
    {
     "name": "stdout",
     "output_type": "stream",
     "text": [
      "Alex is the Dog species Terrier is living in Boston\n",
      "\n",
      "Hau\n",
      "Hau\n",
      "Hau\n",
      "Hau\n",
      "Hau\n"
     ]
    }
   ],
   "source": [
    "# TUTORIAL - OBJECT INHERITANCE\n",
    "\n",
    "# Inheritance is the process by which one class takes on the attributes and methods of another.\n",
    "# Newly formed classes are called CHILD classes, and the classes that child classes are derived from are called PARENT classes.\n",
    "\n",
    "from numpy import random \n",
    "\n",
    "class Animal:\n",
    "    \n",
    "    def __init__(self, kind, place):\n",
    "        self.kind = kind\n",
    "        self.place = place\n",
    "        \n",
    "    @classmethod    \n",
    "    def general_info(self):\n",
    "        print('The {0} is living in {1}'.format(self.kind, self.place))\n",
    "\n",
    "class Dog(Animal):\n",
    "    \n",
    "    def __init__(self, name, species, place):\n",
    "        self.name = name\n",
    "        self.species = species;\n",
    "        Animal.__init__(self, 'Dog', place)\n",
    "        \n",
    "    def general_info(self):\n",
    "        print('{0} is the {1} species {2} is living in {3}'.format(self.name, self.kind, self.species, self.place))\n",
    "        \n",
    "    @staticmethod\n",
    "    def make_sound():\n",
    "        print()\n",
    "        for i in range(1,random.randint(2,10,size = 1)[0]):\n",
    "            print('Hau')\n",
    "        \n",
    "dog = Dog('Alex', 'Terrier', 'Boston')\n",
    "dog.general_info()\n",
    "dog.make_sound()"
   ]
  },
  {
   "cell_type": "code",
   "execution_count": 35,
   "metadata": {},
   "outputs": [
    {
     "name": "stdout",
     "output_type": "stream",
     "text": [
      "C1\n",
      "Circle radius is: 4\n",
      "Area is 50.26548245743669\n",
      "C2\n",
      "Circle radius is: 5\n",
      "Area is 78.53981633974483\n",
      "C3\n",
      "Circle radius is: 9\n",
      "Area is 254.46900494077323\n"
     ]
    }
   ],
   "source": [
    "# TUTORIAL - OPERATOR OVERLOADING\n",
    "\n",
    "import math\n",
    " \n",
    "class Circle:\n",
    " \n",
    "    def __init__(self, radius):\n",
    "        self.__radius = radius\n",
    " \n",
    "    def setRadius(self, radius):\n",
    "        self.__radius = radius\n",
    " \n",
    "    def getRadius(self):\n",
    "        return self.__radius\n",
    " \n",
    "    def area(self):\n",
    "        return math.pi * self.__radius ** 2\n",
    "    \n",
    "    def __str__(self):\n",
    "        return 'Circle radius is: {0}\\nArea is {1}'.format(self.__radius, self.area())\n",
    "        \n",
    "    def __add__(self, another_circle):\n",
    "        return Circle( self.__radius + another_circle.__radius )\n",
    " \n",
    "\n",
    "c1 = Circle(4)\n",
    "print('C1')\n",
    "print(c1) # This became possible because we have overloaded str operator by adding a    method named __str__\n",
    " \n",
    "c2 = Circle(5)\n",
    "print('C2')\n",
    "print(c2)\n",
    " \n",
    "c3 = c1 + c2 # This became possible because we have overloaded + operator by adding a    method named __add__\n",
    "print('C3')\n",
    "print(c3)"
   ]
  },
  {
   "cell_type": "code",
   "execution_count": 44,
   "metadata": {},
   "outputs": [],
   "source": [
    "# EXERCISE 12 - POPRAWIĆ\n",
    "\n",
    "# Construct the class to describe quaternion.\n",
    "\n",
    "class Quaternion:\n",
    "    \n",
    "    #Quaternion initialization\n",
    "    #x = a + bi + cJ + dk\n",
    "    def __init__(self, a, b, c, d):\n",
    "        self.__a = a\n",
    "        self.__b = b\n",
    "        self.__c = c\n",
    "        self.__d = d\n",
    "    \n",
    "    #Quaternion Addition\n",
    "    def __add__(self, another_quaternion):\n",
    "        # (a + ib + jc + kd) + (e + if + jg + kh) = (a+e) + i (b+f) + j (c+g) + k (d+h)\n",
    "        return (self.__a + another_quaternion.__a) + (self.__b + another_quaternion.__b) + (self.__c + another_quaternion.__c) + (self.__d + another_quaternion.__d)\n",
    "    \n",
    "    #Quaternion Subtraction\n",
    "    def __sub__(self, another_quaternion):\n",
    "        # (a + ib + jc + kd) - (e + if + jg + kh) = (a-e) + i (b-f) + j (c-g) + k (d-h)\n",
    "        return (self.__a - another_quaternion.__a) + (self.__b - another_quaternion.__b) + (self.__c - another_quaternion.__c) + (self.__d - another_quaternion.__d)\n",
    "    \n",
    "    #Quaternion Multiplication\n",
    "    def __mul__(self, another_quaternion):\n",
    "        # (a + ib + jc + kd) * (e + if + jg + kh)\n",
    "        # i*i = j*j = k*k = -1\n",
    "        # i*j = k\n",
    "        # j*i = -k\n",
    "        # j*k = i\n",
    "        # k*j = -i\n",
    "        # k*i = j\n",
    "        # i*k = -j\n",
    "        \n",
    "        # a*e - b*f - c*g- d*h + i (b*e + a*f + c*h - d*g) + j (a*g - b*h + c*e + d*f) + k (a*h + b*g - c*f + d*e)\n",
    "        \n",
    "        return\n",
    "    \n",
    "    #Quaternion Division\n",
    "    def __div__(self, another_quaternion):\n",
    "        return \n",
    "    \n",
    "    #Quaternion conjungate\n",
    "    def conjungate(self):\n",
    "        return\n",
    "    \n",
    "    #CQuaternion normalise\n",
    "    def normalise(self):\n",
    "        return"
   ]
  }
 ],
 "metadata": {
  "kernelspec": {
   "display_name": "Python 3",
   "language": "python",
   "name": "python3"
  },
  "language_info": {
   "codemirror_mode": {
    "name": "ipython",
    "version": 3
   },
   "file_extension": ".py",
   "mimetype": "text/x-python",
   "name": "python",
   "nbconvert_exporter": "python",
   "pygments_lexer": "ipython3",
   "version": "3.7.4"
  }
 },
 "nbformat": 4,
 "nbformat_minor": 4
}
