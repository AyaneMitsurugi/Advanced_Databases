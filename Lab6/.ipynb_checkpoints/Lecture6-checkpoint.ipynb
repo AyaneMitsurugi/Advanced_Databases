{
 "cells": [
  {
   "cell_type": "markdown",
   "metadata": {
    "collapsed": true,
    "slideshow": {
     "slide_type": "slide"
    }
   },
   "source": [
    "# Advanced databases\n",
    "\n",
    "## Data Query Language - DQL\n",
    "### dr  inż. Waldemar Bauer"
   ]
  },
  {
   "cell_type": "markdown",
   "metadata": {
    "slideshow": {
     "slide_type": "slide"
    }
   },
   "source": [
    "## SQL Standard\n",
    "\n",
    "\n",
    "- Structure Query Language(SQL) is a database query language used for storing and managing data in Relational DBMS\n",
    "\n",
    "- SQL is an ANSI/ISO standard but exists different versions of the SQL language.\n",
    "\n",
    "- The major commands such as SELECT, UPDATE, WHERE, DELETE, etc. are similar.\n",
    "\n",
    "- Most of the SQL database engiones also have their own proprietary extensions in addition to the SQL standard."
   ]
  },
  {
   "cell_type": "markdown",
   "metadata": {
    "slideshow": {
     "slide_type": "subslide"
    }
   },
   "source": [
    "## SQL Command\n",
    "\n",
    "1. DDL: Data Definition Language\n",
    "    - create\n",
    "    - alter\n",
    "    - delete\n",
    "    - drop\n",
    "    - rename\n",
    "2. DML: Data Manipulation Language\n",
    "    - insert\t\n",
    "    - update\t\n",
    "    - delete\n",
    "3. TCL: Transaction Control Language\n",
    "    - commit\n",
    "    - rollback\n",
    "    - savepoint\n",
    "4. DQL: Data Query Language\n",
    "    - select"
   ]
  },
  {
   "cell_type": "markdown",
   "metadata": {
    "slideshow": {
     "slide_type": "slide"
    }
   },
   "source": [
    "## Select - basic form\n",
    "\n",
    "```sql\n",
    "SELECT [DISTINCT|ALL ] { * | [fieldExpression [AS newName]} \n",
    "FROM tableName [alias] \n",
    "[WHERE condition]\n",
    "[GROUP BY fieldName(s)]  \n",
    "[HAVING condition] ORDER BY fieldName(s)\n",
    "```"
   ]
  },
  {
   "cell_type": "markdown",
   "metadata": {
    "slideshow": {
     "slide_type": "subslide"
    }
   },
   "source": [
    "## Select - PostgreSQL form\n",
    "<img src=\"./img/select_pg.png\" width=\"40%\" height=\"40%\">\n",
    "\n",
    "[source](https://www.postgresql.org/docs/current/sql-select.html)"
   ]
  },
  {
   "cell_type": "markdown",
   "metadata": {
    "slideshow": {
     "slide_type": "slide"
    }
   },
   "source": [
    "## Tutorial database\n",
    "<img src='./img/dvd-rental-sample-database-diagram.png' width=\"30%\" height=\"30%\">"
   ]
  },
  {
   "cell_type": "markdown",
   "metadata": {
    "slideshow": {
     "slide_type": "slide"
    }
   },
   "source": [
    "## Select on the begin\n",
    "\n",
    "**Query 1**\n",
    "```sql\n",
    "select 'a'\n",
    "```\n",
    "**result:**\n",
    "\n",
    "| ??column??, text \t|\n",
    "|:---------------:\t|\n",
    "|       \"a\"       \t|\n",
    "\n",
    "**Query 2**\n",
    "```sql\n",
    "select 4-(4+4)*4\n",
    "```\n",
    "**result:**\n",
    "\n",
    "|  ??column??, integer \t|\n",
    "|:---------------------:|\n",
    "|         -28         \t|\n"
   ]
  },
  {
   "cell_type": "markdown",
   "metadata": {
    "slideshow": {
     "slide_type": "slide"
    }
   },
   "source": [
    "## Alias\n",
    "\n",
    "**Query 1**\n",
    "```sql\n",
    "select 'a' as \"char\"\n",
    "```\n",
    "**result:**\n",
    "\n",
    "| char, text \t|\n",
    "|:---------------:\t|\n",
    "|       \"a\"       \t|\n",
    "\n",
    "**Query 2**\n",
    "```sql\n",
    "select 4-(4+4)*4 as \"calculation\"\n",
    "```\n",
    "**result:**\n",
    "\n",
    "|  calculation, integer \t|\n",
    "|:---------------------:|\n",
    "|         -28         \t|"
   ]
  },
  {
   "cell_type": "markdown",
   "metadata": {
    "slideshow": {
     "slide_type": "slide"
    }
   },
   "source": [
    "## Select and function\n",
    "\n",
    "**Query 1**\n",
    "```sql\n",
    "select upper('Anneth')\n",
    "```\n",
    "**result:**\n",
    "\n",
    "|   **upper**, text  |\n",
    "|:-----------------:|\n",
    "|       \"ANNETH\"    |\n",
    "\n",
    "**Query 2**\n",
    "```sql\n",
    "select sqrt (4*4*4*4)\n",
    "```\n",
    "**result:**\n",
    "\n",
    "|  **sqrt**, double precision|\n",
    "|:-------------------------:|\n",
    "|         16            \t|"
   ]
  },
  {
   "cell_type": "markdown",
   "metadata": {
    "slideshow": {
     "slide_type": "slide"
    }
   },
   "source": [
    "## Select from table\n",
    "\n",
    "Select all column from table:\n",
    "\n",
    "```sql\n",
    "select * from actor\n",
    "```\n",
    "\n",
    "**result:**\n",
    "\n",
    "| actor_id \t|  first_name \t|   last_name  \t|       last_update      \t|\n",
    "|:--------:\t|:-----------:\t|:------------:\t|:----------------------:\t|\n",
    "|     1    \t|   Penelope  \t|    Guiness   \t| 2013-05-26 14:47:57.62 \t|\n",
    "|     2    \t|     Nick    \t|   Wahlberg   \t| 2013-05-26 14:47:57.62 \t|\n",
    "|     3    \t|      Ed     \t|     Chase    \t| 2013-05-26 14:47:57.62 \t|\n",
    "|     4    \t|   Jennifer  \t|     Davis    \t| 2013-05-26 14:47:57.62 \t|\n",
    "|     5    \t|    Johnny   \t| Lollobrigida \t| 2013-05-26 14:47:57.62 \t|\n",
    "|     6    \t|    Bette    \t|   Nicholson  \t| 2013-05-26 14:47:57.62 \t|\n",
    "|     7    \t|    Grace    \t|    Mostel    \t| 2013-05-26 14:47:57.62 \t|\n",
    "|     8    \t|   Matthew   \t|   Johansson  \t| 2013-05-26 14:47:57.62 \t|\n",
    "|     ...   |     ...     \t|     ...    \t|           ...         \t|"
   ]
  },
  {
   "cell_type": "markdown",
   "metadata": {
    "slideshow": {
     "slide_type": "subslide"
    }
   },
   "source": [
    "## Select from table chosen columns\n",
    "\n",
    "```sql\n",
    "select first_name, last_name from actor\n",
    "```\n",
    "**result:**\n",
    "\n",
    "|  first_name \t|   last_name  \t|\n",
    "|:-----------:\t|:------------:\t|\n",
    "|   Penelope  \t|    Guiness   \t|\n",
    "|     Nick    \t|   Wahlberg   \t|\n",
    "|      Ed     \t|     Chase    \t|\n",
    "|   Jennifer  \t|     Davis    \t|\n",
    "|    Johnny   \t| Lollobrigida \t|\n",
    "|    Bette    \t|   Nicholson  \t|\n",
    "|    Grace    \t|    Mostel    \t|\n",
    "|   Matthew   \t|   Johansson  \t|\n",
    "|     ...     \t|     ...    \t|"
   ]
  },
  {
   "cell_type": "markdown",
   "metadata": {
    "slideshow": {
     "slide_type": "subslide"
    }
   },
   "source": [
    "## Select from table chosen columns and concatenation results\n",
    "\n",
    "```sql\n",
    "select Concat('First Name: ',first_name, ' Last Name: ', last_name) as \"My text\"\n",
    "from actor\n",
    "```\n",
    "\n",
    "**result:**\n",
    "\n",
    "|             My text                      |\n",
    "|:-----------------------------------------|\n",
    "|First Name: Penelope Last Name: Guiness   |\n",
    "|First Name: Nick Last Name: Wahlberg      |\n",
    "|First Name: Ed Last Name: Chase           |\n",
    "|First Name: Jennifer Last Name: Davis     |\n",
    "|First Name: Johnny Last Name: Lollobrigida|\n",
    "|First Name: Bette Last Name: Nicholson    |\n",
    "|First Name: Grace Last Name: Mostel       |\n",
    "|First Name: Matthew Last Name: Johansson  |\n",
    "|                 ...                      |"
   ]
  },
  {
   "cell_type": "markdown",
   "metadata": {
    "slideshow": {
     "slide_type": "subslide"
    }
   },
   "source": [
    "##  Select from table chosen columns and concatenation part 2 \n",
    "\n",
    "```sql\n",
    "select Concat('First Name: ',first_name, ' Last Name: ', last_name) as \"My text\",\n",
    "\n",
    "last_update from actor\n",
    "```\n",
    "\n",
    "**result:**\n",
    "\n",
    "| My text                                     \t| last_update            \t|\n",
    "|:---------------------------------------------\t|:------------------------\t|\n",
    "| First Name: Penelope Last Name: Guiness     \t| 2013-05-26 14:47:57.62 \t|\n",
    "| First Name: Nick Last Name: Wahlberg        \t| 2013-05-26 14:47:57.62 \t|\n",
    "| First Name: Ed Last Name: Chase             \t| 2013-05-26 14:47:57.62 \t|\n",
    "| First Name: Jennifer Last Name: Davis       \t| 2013-05-26 14:47:57.62 \t|\n",
    "| First Name: Johnny Last Name: Lollobrigida  \t| 2013-05-26 14:47:57.62 \t|\n",
    "| First Name: Bette Last Name: Nicholson      \t| 2013-05-26 14:47:57.62 \t|\n",
    "| First Name: Grace Last Name: Mostel         \t| 2013-05-26 14:47:57.62 \t|\n",
    "| First Name: Matthew Last Name: Johansson    \t| 2013-05-26 14:47:57.62 \t|\n",
    "|...                                            |             ...           |"
   ]
  },
  {
   "cell_type": "markdown",
   "metadata": {
    "slideshow": {
     "slide_type": "slide"
    }
   },
   "source": [
    "## Select limit\n",
    "```sql\n",
    "select first_name, last_name from actor limit 10 \n",
    "```\n",
    "\n",
    "**result:**\n",
    "\n",
    "| first_name \t| last_name    \t |\n",
    "|:------------:\t|:--------------:|\n",
    "| Penelope   \t| Guiness      \t |\n",
    "| Nick       \t| Wahlberg     \t |\n",
    "| Ed         \t| Chase        \t |\n",
    "| Jennifer   \t| Davis        \t |\n",
    "| Johnny     \t| Lollobrigida \t |\n",
    "| Bette      \t| Nicholson    \t |\n",
    "| Grace      \t| Mostel       \t |\n",
    "| Matthew    \t| Johansson    \t |\n",
    "| Joe        \t| Swank        \t |\n",
    "| Christian  \t| Gable        \t |\n",
    "\n",
    "- the *limit* value must be positive "
   ]
  },
  {
   "cell_type": "markdown",
   "metadata": {
    "slideshow": {
     "slide_type": "subslide"
    }
   },
   "source": [
    "## Select limit and offset\n",
    "\n",
    "```sql\n",
    "select first_name, last_name from actor limit 5 offset 5\n",
    "```\n",
    "**result:**\n",
    "\n",
    "| first_name \t| last_name    \t |\n",
    "|:------------:\t|:--------------:|\n",
    "| Bette      \t| Nicholson    \t |\n",
    "| Grace      \t| Mostel       \t |\n",
    "| Matthew    \t| Johansson    \t |\n",
    "| Joe        \t| Swank        \t |\n",
    "| Christian  \t| Gable        \t |\n",
    "\n",
    "- the *offset* value must be positive "
   ]
  },
  {
   "cell_type": "markdown",
   "metadata": {
    "slideshow": {
     "slide_type": "slide"
    }
   },
   "source": [
    "## Order by \n",
    " \n",
    "- Used to sort the result-set in ascending (ASC) or descending order (DESC)\n",
    "- Must by use before limit\n",
    "- Defult order by work in ASC mode\n",
    "\n",
    "```sql\n",
    "select first_name, last_name from actor order by first_name ASC limit 10\n",
    "```\n",
    "**result:**\n",
    "\n",
    "| first_name \t|  last_name  \t|\n",
    "|:----------:\t|:-----------:\t|\n",
    "|    Adam    \t|    Grant    \t|\n",
    "|    Adam    \t|    Hopper   \t|\n",
    "|     Al     \t|   Garland   \t|\n",
    "|    Alan    \t|   Dreyfuss  \t|\n",
    "|   Albert   \t|  Johansson  \t|\n",
    "|   Albert   \t|    Nolte    \t|\n",
    "|    Alec    \t|    Wayne    \t|\n",
    "|   Angela   \t| Witherspoon \t|\n",
    "|   Angela   \t|    Hudson   \t|\n",
    "|  Angelina  \t|   Astaire   \t|"
   ]
  },
  {
   "cell_type": "markdown",
   "metadata": {
    "slideshow": {
     "slide_type": "slide"
    }
   },
   "source": [
    "## Select with distinct\n",
    "\n",
    "**Query 1**\n",
    "```sql\n",
    "SELECT first_name FROM actor\n",
    "```\n",
    "Return 200 first names \n",
    "\n",
    "**Query 2**\n",
    "```sql\n",
    "SELECT DISTINCT first_name FROM actor\n",
    "```\n",
    "Return 128 first names\n"
   ]
  },
  {
   "cell_type": "markdown",
   "metadata": {
    "slideshow": {
     "slide_type": "subslide"
    }
   },
   "source": [
    "## Select with distinct part 2\n",
    "\n",
    "**Query 1**\n",
    "```sql\n",
    "SELECT first_name, last_name FROM actor\n",
    "```\n",
    "Return 200 first names \n",
    "\n",
    "**Query 2**\n",
    "```sql\n",
    "SELECT DISTINCT (first_name, last_name) FROM actor\n",
    "```\n",
    "Return 199 first names "
   ]
  },
  {
   "cell_type": "markdown",
   "metadata": {
    "slideshow": {
     "slide_type": "slide"
    }
   },
   "source": [
    "## Query Explain\n",
    "\n",
    "- Returns the execution plan which PostgreSQL planner generates for a given statement.\n",
    "- Shows information about tables involed in the query, type of opperation on index, ordered, etc. and kind of join algorithm will be used\n",
    "- Most important result of Explain is is start-cost before the first row can be returned and the total cost to return the complete result set\n",
    "\n",
    "```sql\n",
    "EXPLAIN [ ( option [, ...] ) ] statement\n",
    "EXPLAIN [ ANALYZE ] [ VERBOSE ] statement\n",
    "```\n"
   ]
  },
  {
   "cell_type": "markdown",
   "metadata": {
    "slideshow": {
     "slide_type": "subslide"
    }
   },
   "source": [
    "## Explain option\n",
    "\n",
    "options:\n",
    "\n",
    "- ANALYZE [ boolean ] - defult FALSE\n",
    "- VERBOSE [ boolean ] - defult FALSE\n",
    "- COSTS [ boolean ] - defult TRUE\n",
    "- BUFFERS [ boolean ] - defult FALSE\n",
    "- TIMING [ boolean ] -  defult TRUE\n",
    "- SUMMARY [ boolean ] - defult TRUE\n",
    "- FORMAT { TEXT | XML | JSON | YAML } - defult TEXT"
   ]
  },
  {
   "cell_type": "markdown",
   "metadata": {
    "slideshow": {
     "slide_type": "subslide"
    }
   },
   "source": [
    "## Explain option part 2\n",
    "\n",
    "- Analyze\n",
    "    - Option causes the sql_statement to be executed first and then actual run-time statistics.\n",
    "    - Return: total elapsed time expended within each plan node, the number of rows it actually returned.\n",
    "- Verbose \n",
    "    - Display additional information regarding the plan\n",
    "    - Return: output column list for each node in the plan tree, schema-qualify table and function names, always label variables in expressions with their range table alias, and always print the name of each trigger for which statistics are displayed \n",
    "- COSTS\n",
    "    - estimated startup and total cost of each plan node, as well as the estimated number of rows (Index Scan) and the estimated width of each row (in bytes of the returned rows)"
   ]
  },
  {
   "cell_type": "markdown",
   "metadata": {
    "slideshow": {
     "slide_type": "subslide"
    }
   },
   "source": [
    "## Explain exampel 1\n",
    "\n",
    "```sql\n",
    "EXPLAIN\n",
    "select first_name, last_name from actor  order by first_name ASC limit 10\n",
    "```\n",
    "<img src=\"./img/explain_basic.png\">\n"
   ]
  },
  {
   "cell_type": "markdown",
   "metadata": {
    "slideshow": {
     "slide_type": "subslide"
    }
   },
   "source": [
    "## Explain exampel 2\n",
    "\n",
    "```sql\n",
    "EXPLAIN ANALYZE VERBOSE \n",
    "select first_name, last_name from actor order by first_name ASC limit 10\n",
    "```\n",
    "<img src=\"./img/explain_pro.png\">\n"
   ]
  },
  {
   "cell_type": "markdown",
   "metadata": {
    "slideshow": {
     "slide_type": "subslide"
    }
   },
   "source": [
    "## Explain exampel 3\n",
    "\n",
    "```sql\n",
    "EXPLAIN (ANALYZE TRUE, VERBOSE True, BUFFERS TRUE)\n",
    "select first_name, last_name from actor  order by first_name ASC limit 10\n",
    "```\n",
    "<img src=\"./img/explain_full.png\">\n"
   ]
  },
  {
   "cell_type": "markdown",
   "metadata": {
    "slideshow": {
     "slide_type": "slide"
    }
   },
   "source": [
    "## Where in select\n",
    "\n",
    "Where used condition to filter the rows returned from the SELECT statement. \n",
    "\n",
    "Standard operators in Where:\n",
    "\n",
    "| Operator \t|      Description      \t|\n",
    "|:--------:\t|:---------------------:\t|\n",
    "|     =    \t|         Equal         \t|\n",
    "|     >    \t|      Greater than     \t|\n",
    "|     <    \t|       Less than       \t|\n",
    "|    >=    \t| Greater than or equal \t|\n",
    "|    <=    \t|   Less than or equal  \t|\n",
    "| <> or != \t|       Not equal       \t|\n",
    "|    AND   \t|  Logical operator AND \t|\n",
    "|    OR    \t|  Logical operator OR  \t|\n"
   ]
  },
  {
   "cell_type": "markdown",
   "metadata": {
    "slideshow": {
     "slide_type": "subslide"
    }
   },
   "source": [
    "## Where examples\n",
    "\n",
    "**Query 1**\n",
    "```sql\n",
    "select * from actor where actor_id < 5;\n",
    "```\n",
    "**Query 2**\n",
    "```sql\n",
    "select * from actor where actor_id < 10 and actor_id > 5;\n",
    "```\n",
    "**Query 3**\n",
    "```sql\n",
    "select * from actor where actor_id < 10 or actor_id > 5;\n",
    "```"
   ]
  },
  {
   "cell_type": "markdown",
   "metadata": {
    "slideshow": {
     "slide_type": "subslide"
    }
   },
   "source": [
    "## Result Query 1 \n",
    "\n",
    "| actor_id \t| first_name \t|  last_name \t|        last_update       \t|\n",
    "|:--------:\t|:----------:\t|:----------:\t|:------------------------:\t|\n",
    "|     1    \t| \"Penelope\" \t|  \"Guiness\" \t| \"2013-05-26 14:47:57.62\" \t|\n",
    "|     2    \t|   \"Nick\"   \t| \"Wahlberg\" \t| \"2013-05-26 14:47:57.62\" \t|\n",
    "|     3    \t|    \"Ed\"    \t|   \"Chase\"  \t| \"2013-05-26 14:47:57.62\" \t|\n",
    "|     4    \t| \"Jennifer\" \t|   \"Davis\"  \t| \"2013-05-26 14:47:57.62\" \t|"
   ]
  },
  {
   "cell_type": "markdown",
   "metadata": {
    "slideshow": {
     "slide_type": "slide"
    }
   },
   "source": [
    "## Function in select\n",
    "\n",
    "- A function is a set of SQL statements that perform a specific task. \n",
    "\n",
    "- In SQL Server standard we have many [predefined functions](https://www.w3schools.com/sql/sql_ref_sqlserver.asp) \n",
    "\n",
    "- Full list of PostgreSQL predefined function [here](https://www.postgresql.org/docs/current/functions.html)"
   ]
  },
  {
   "cell_type": "markdown",
   "metadata": {
    "slideshow": {
     "slide_type": "subslide"
    }
   },
   "source": [
    "## Function in select example\n",
    "```sql\n",
    "select * from actor where length(first_name) < 3;\n",
    "```\n",
    "\n",
    "Result:\n",
    "\n",
    "| actor_id \t| first_name \t|  last_name  \t|        last_update       \t|\n",
    "|:--------:\t|:----------:\t|:-----------:\t|:------------------------:\t|\n",
    "|     3    \t|    \"Ed\"    \t|   \"Chase\"   \t| \"2013-05-26 14:47:57.62\" \t|\n",
    "|    136   \t|    \"Ed\"    \t| \"Mansfield\" \t| \"2013-05-26 14:47:57.62\" \t|\n",
    "|    165   \t|    \"Al\"    \t|  \"Garland\"  \t| \"2013-05-26 14:47:57.62\" \t|\n",
    "|    179   \t|    \"Ed\"    \t|  \"Guiness\"  \t| \"2013-05-26 14:47:57.62\" \t|"
   ]
  },
  {
   "cell_type": "markdown",
   "metadata": {
    "slideshow": {
     "slide_type": "slide"
    }
   },
   "source": [
    "## Between in select\n",
    "\n",
    "- Match a value against a range of values\n",
    "- Is equale of condition -> col_name >= value and col_name <= value2 \n",
    "\n",
    "```sql\n",
    "select * from actor where length(first_name)  between 2 and 3  limit 5;\n",
    "```\n",
    "\n",
    "Result:\n",
    "\n",
    "| actor_id \t| first_name \t| last_name \t|        last_update       \t|\n",
    "|:--------:\t|:----------:\t|:---------:\t|:------------------------:\t|\n",
    "|     3    \t|    \"Ed\"    \t|  \"Chase\"  \t| \"2013-05-26 14:47:57.62\" \t|\n",
    "|     9    \t|    \"Joe\"   \t|  \"Swank\"  \t| \"2013-05-26 14:47:57.62\" \t|\n",
    "|    13    \t|    \"Uma\"   \t|   \"Wood\"  \t| \"2013-05-26 14:47:57.62\" \t|\n",
    "|    18    \t|    \"Dan\"   \t|   \"Torn\"  \t| \"2013-05-26 14:47:57.62\" \t|\n",
    "|    19    \t|    \"Bob\"   \t| \"Fawcett\" \t| \"2013-05-26 14:47:57.62\" \t|"
   ]
  },
  {
   "cell_type": "markdown",
   "metadata": {
    "slideshow": {
     "slide_type": "subslide"
    }
   },
   "source": [
    "## EXPLAIN between\n",
    "\n",
    "```sql\n",
    "EXPLAIN ANALYZE VERBOSE  \n",
    "select * from actor where length(first_name)  between 2 and 3;\n",
    "```\n",
    "Result: \n",
    "\"Seq Scan on public.actor  (cost=0.00..6.00 rows=1 width=25) (actual time=0.010..0.031 rows=28 loops=1)\"\n",
    "\n",
    "\"  Output: actor_id, first_name, last_name, last_update\"\n",
    "\n",
    "\"  Filter: ((length((actor.first_name)::text) >= 2) AND (length((actor.first_name)::text) <= 3))\"\n",
    "\n",
    "\"  Rows Removed by Filter: 172\"\n",
    "\n",
    "\"Planning Time: 0.045 ms\"\n",
    "\n",
    "\"Execution Time: 0.040 ms\"\n"
   ]
  },
  {
   "cell_type": "markdown",
   "metadata": {
    "slideshow": {
     "slide_type": "subslide"
    }
   },
   "source": [
    "## EXPLAIN between\n",
    "\n",
    "```sql\n",
    "EXPLAIN ANALYZE VERBOSE  \n",
    "select * from actor where length(first_name) >= 2 and  length(first_name) <=3 ;\n",
    "```\n",
    "Result: \n",
    "\"Seq Scan on public.actor  (cost=0.00..6.00 rows=1 width=25) (actual time=0.013..0.035 rows=28 loops=1)\"\n",
    "\n",
    "\"  Output: actor_id, first_name, last_name, last_update\"\n",
    "\n",
    "\"  Filter: ((length((actor.first_name)::text) >= 2) AND (length((actor.first_name)::text) <= 3))\"\n",
    "\n",
    "\"  Rows Removed by Filter: 172\"\n",
    "\n",
    "\"Planning Time: 0.066 ms\"\n",
    "\n",
    "\"Execution Time: 0.046 ms\"\n"
   ]
  },
  {
   "cell_type": "markdown",
   "metadata": {
    "slideshow": {
     "slide_type": "slide"
    }
   },
   "source": [
    "## 'In' clausule in select\n",
    "\n",
    "-  IN operator is used in the WHERE clause to check if a value matches any value in a list of values.\n",
    "\n",
    "```sql\n",
    "select * from actor where actor_id in (1,20,30,18);\n",
    "```\n",
    "Result:\n",
    "\n",
    "| actor_id \t| first_name \t| last_name \t|        last_update       \t|\n",
    "|:--------:\t|:----------:\t|:---------:\t|:------------------------:\t|\n",
    "|     1    \t| \"Penelope\" \t| \"Guiness\" \t| \"2013-05-26 14:47:57.62\" \t|\n",
    "|    18    \t|    \"Dan\"   \t|   \"Torn\"  \t| \"2013-05-26 14:47:57.62\" \t|\n",
    "|    20    \t|  \"Lucille\" \t|  \"Tracy\"  \t| \"2013-05-26 14:47:57.62\" \t|\n",
    "|    30    \t|  \"Sandra\"  \t|   \"Peck\"  \t| \"2013-05-26 14:47:57.62\" \t|"
   ]
  },
  {
   "cell_type": "markdown",
   "metadata": {
    "slideshow": {
     "slide_type": "slide"
    }
   },
   "source": [
    "## 'In' operator in select part 2\n",
    "```sql\n",
    "select * from actor where first_name in ('Ed','Al', 'Carmen', 'Jude');\n",
    "```\n",
    "\n",
    "Result:\n",
    "\n",
    "| actor_id \t| first_name \t|  last_name  \t|        last_update       \t|\n",
    "|:--------:\t|:----------:\t|:-----------:\t|:------------------------:\t|\n",
    "|     3    \t|    \"Ed\"    \t|   \"Chase\"   \t| \"2013-05-26 14:47:57.62\" \t|\n",
    "|    52    \t|  \"Carmen\"  \t|    \"Hunt\"   \t| \"2013-05-26 14:47:57.62\" \t|\n",
    "|    57    \t|   \"Jude\"   \t|   \"Cruise\"  \t| \"2013-05-26 14:47:57.62\" \t|\n",
    "|    136   \t|    \"Ed\"    \t| \"Mansfield\" \t| \"2013-05-26 14:47:57.62\" \t|\n",
    "|    165   \t|    \"Al\"    \t|  \"Garland\"  \t| \"2013-05-26 14:47:57.62\" \t|\n",
    "|    179   \t|    \"Ed\"    \t|  \"Guiness\"  \t| \"2013-05-26 14:47:57.62\" \t|"
   ]
  },
  {
   "cell_type": "markdown",
   "metadata": {
    "slideshow": {
     "slide_type": "slide"
    }
   },
   "source": [
    "## Subquery in select\n",
    "\n",
    "In from: \n",
    "\n",
    "```sql\n",
    "select * from (select * from actor where length(first_name) < 3) tmp_actor \n",
    "where tmp_actor.actor_id < 100;\n",
    "```\n",
    "\n",
    "Result:\n",
    "\n",
    "| actor_id \t| first_name \t|  last_name  \t|        last_update       \t|\n",
    "|:--------:\t|:----------:\t|:-----------:\t|:------------------------:\t|\n",
    "|     3    \t|    \"Ed\"    \t|   \"Chase\"   \t| \"2013-05-26 14:47:57.62\" \t|"
   ]
  },
  {
   "cell_type": "markdown",
   "metadata": {
    "slideshow": {
     "slide_type": "slide"
    }
   },
   "source": [
    "## Subquery in select\n",
    "\n",
    "In from: \n",
    "\n",
    "```sql\n",
    "select * from (select first_name, last_name from actor where length(first_name) < 3) tmp_actor \n",
    "where tmp_actor.actor_id < 100;\n",
    "```\n",
    "\n",
    "Result:\n",
    "\n",
    "ERROR:  column tmp_actor.actor_id don't exist\n"
   ]
  },
  {
   "cell_type": "markdown",
   "metadata": {
    "slideshow": {
     "slide_type": "slide"
    }
   },
   "source": [
    "## Subquery in select\n",
    "\n",
    "In from: \n",
    "\n",
    "```sql\n",
    "select * from (select first_name, last_name from actor where length(first_name) < 3) tmp_actor \n",
    "where length(tmp_actor.first_name) < 3;\n",
    "```\n",
    "\n",
    "Result:\n",
    "\n",
    "| first_name \t|  last_name  \t|\n",
    "|:----------:\t|:-----------:\t|\n",
    "|\"Ed\"|\t\"Chase\"|\n",
    "|\"Ed\"|\t\"Mansfield\"|\n",
    "|\"Al\"|\t\"Garland\"|\n",
    "|\"Ed\"|\t\"Guiness\"|\n"
   ]
  },
  {
   "cell_type": "markdown",
   "metadata": {
    "slideshow": {
     "slide_type": "subslide"
    }
   },
   "source": [
    "## Subquery in select part 2\n",
    "In where:\n",
    "```sql\n",
    "select * from actor where actor_id in (select actor_id from actor where length(first_name) < 3) and actor_id < 100;\n",
    "```\n",
    "Result:\n",
    "\n",
    "| actor_id \t| first_name \t|  last_name  \t|        last_update       \t|\n",
    "|:--------:\t|:----------:\t|:-----------:\t|:------------------------:\t|\n",
    "|     3    \t|    \"Ed\"    \t|   \"Chase\"   \t| \"2013-05-26 14:47:57.62\" \t|"
   ]
  },
  {
   "cell_type": "markdown",
   "metadata": {
    "slideshow": {
     "slide_type": "subslide"
    }
   },
   "source": [
    "## EXPLAIN subquery\n",
    "\n",
    "```sql\n",
    "EXPLAIN ANALYZE VERBOSE  \n",
    "select * from (select * from actor where length(first_name) < 3) tmp_actor where tmp_actor.actor_id < 100;\n",
    "```\n",
    "\n",
    "\"Seq Scan on public.actor  (cost=0.00..5.50 rows=33 width=25) (actual time=0.031..0.044 rows=1 loops=1)\"\n",
    "\n",
    "\"  Output: actor.actor_id, actor.first_name, actor.last_name, actor.last_update\"\n",
    "\n",
    "\"  Filter: ((actor.actor_id < 100) AND (length((actor.first_name)::text) < 3))\"\n",
    "\n",
    "\"  Rows Removed by Filter: 199\"\n",
    "\n",
    "\"Planning Time: 0.074 ms\"\n",
    "\n",
    "\"Execution Time: 0.054 ms\"\n"
   ]
  },
  {
   "cell_type": "markdown",
   "metadata": {
    "slideshow": {
     "slide_type": "subslide"
    }
   },
   "source": [
    "## EXPLAIN subquery part 2\n",
    "\n",
    "```sql\n",
    "EXPLAIN ANALYZE VERBOSE \n",
    "select * from actor where actor_id in (select actor_id from actor where length(first_name) < 3) and actor_id < 100;\n",
    "```\n",
    "\n",
    "\"Hash Join  (cost=5.84..10.60 rows=33 width=25) (actual time=0.036..0.049 rows=1 loops=1)\"\n",
    "\n",
    "\"  Output: actor.actor_id, actor.first_name, actor.last_name, actor.last_update\"\n",
    "\n",
    "\"  Inner Unique: true\"\n",
    "\n",
    "\"  Hash Cond: (actor.actor_id = actor_1.actor_id)\"\n",
    "\n",
    "\"  ->  Seq Scan on public.actor  (cost=0.00..4.50 rows=99 width=25) (actual time=0.008..0.017 rows=99 loops=1)\"\n",
    "\n",
    "...\n",
    "\n",
    "\"  ->  Hash  (cost=5.00..5.00 rows=67 width=4) (actual time=0.023..0.023 rows=4 loops=1)\"\n",
    "\n",
    "...\n",
    "\n",
    "\"Planning Time: 0.214 ms\"\n",
    "\n",
    "\"Execution Time: 0.068 ms\""
   ]
  }
 ],
 "metadata": {
  "celltoolbar": "Slideshow",
  "jupytext": {
   "formats": "ipynb"
  },
  "kernelspec": {
   "display_name": "Python 3",
   "language": "python",
   "name": "python3"
  },
  "language_info": {
   "codemirror_mode": {
    "name": "ipython",
    "version": 3
   },
   "file_extension": ".py",
   "mimetype": "text/x-python",
   "name": "python",
   "nbconvert_exporter": "python",
   "pygments_lexer": "ipython3",
   "version": "3.7.6"
  },
  "rise": {
   "autolaunch": true,
   "backimage": "img/tlo_agh.png"
  }
 },
 "nbformat": 4,
 "nbformat_minor": 2
}
